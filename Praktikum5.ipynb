{
  "nbformat": 4,
  "nbformat_minor": 0,
  "metadata": {
    "colab": {
      "provenance": [],
      "authorship_tag": "ABX9TyO50rc/MGO3G4qp/T0WrPBg",
      "include_colab_link": true
    },
    "kernelspec": {
      "name": "python3",
      "display_name": "Python 3"
    },
    "language_info": {
      "name": "python"
    }
  },
  "cells": [
    {
      "cell_type": "markdown",
      "metadata": {
        "id": "view-in-github",
        "colab_type": "text"
      },
      "source": [
        "<a href=\"https://colab.research.google.com/github/viyyaaaa-hash/ddp-2025/blob/main/Praktikum5.ipynb\" target=\"_parent\"><img src=\"https://colab.research.google.com/assets/colab-badge.svg\" alt=\"Open In Colab\"/></a>"
      ]
    },
    {
      "cell_type": "code",
      "execution_count": 11,
      "metadata": {
        "id": "5kyRBCr7z5CH",
        "colab": {
          "base_uri": "https://localhost:8080/"
        },
        "outputId": "c656351b-1931-40b1-bc59-d3171f15ddf5"
      },
      "outputs": [
        {
          "output_type": "stream",
          "name": "stdout",
          "text": [
            "['Nmax', 'motor', '200', 'Hitam', '2']\n",
            "['Nmax', 'motor', '200', 'Hitam', '2', 7000, 'metic']\n",
            "['Nmax', 'motor', 'Honda', '200', 'Hitam', '2', 7000, 'metic']\n"
          ]
        }
      ],
      "source": [
        "namakendaraan =\"Nmax\"\n",
        "jeniskendaraan =\"motor\"\n",
        "cckendaraan =\"200\"\n",
        "warnakendaraan=\"Hitam\"\n",
        "rodakendaraan =\"2\"\n",
        "\n",
        "data_kendaraan =[namakendaraan, jeniskendaraan, cckendaraan,\n",
        "                 warnakendaraan, rodakendaraan]\n",
        "\n",
        "print(data_kendaraan)\n",
        "\n",
        "hargakendaraan = 7000\n",
        "tipekendaraan =\"metic\"\n",
        "\n",
        "data_kendaraan.append(hargakendaraan)\n",
        "data_kendaraan.append(tipekendaraan)\n",
        "print(data_kendaraan)\n",
        "\n",
        "merkkendaraan =\"Honda\"\n",
        "data_kendaraan.insert(2,merkkendaraan)\n",
        "print(data_kendaraan)"
      ]
    },
    {
      "cell_type": "code",
      "source": [
        "pilihan = input(\"\"\"\"\n",
        "Silahkan pilih menu yg diinginkan\n",
        "=================================\n",
        "1. Luas Persegi\n",
        "2. Luas Lingkaran\n",
        "3. Luas Segitiga\n",
        "=================================\n",
        "Kirimkan hanya angka saja, jawaban = \"\"\")\n",
        "\n",
        "match pilihan:\n",
        "  case \"1\":\n",
        "    print(\"anda dapat memilih luas persegi silahkan isi data dibawah\")\n",
        "    sisi = int(input(\"sisi = \"))\n",
        "    luas = sisi * sisi\n",
        "\n",
        "    print(f\"Luas Persegi dengan sisi{sisi} adalah {luas}\")\n",
        "    #Luas Persegi\n",
        "  case \"2\":\n",
        "    print(\"anda dapat memilih Luas Lingkaran silahkan isi data dibawah\")\n",
        "    jarijari = int(input(\"jarijari = \"))\n",
        "    luas = 3.14 * jarijari * jarijari\n",
        "\n",
        "    print(f\"Luas Lingkaran dengan jarijari {jarijari} adalah {luas}\")\n",
        "    #Luas Lingkaran\n",
        "    #phi * jarijari**2\n",
        "  case \"3\":\n",
        "    print(\"anda dapat memilih Luas Segitiga silahkan isi data dibawah\")\n",
        "    alas = int(input(\"alas =\"))\n",
        "    tinggi = int(input(\"tinggi =\"))\n",
        "    luas = (alas * tinggi) /2\n",
        "\n",
        "    print(f\"Luas Segitiga dengan alas {alas} * tinggi {tinggi} /2 adalah {alas }\")\n",
        "    #Luas Segitiga\n",
        "  case _:\n",
        "    print(\"kurang tau\")\n"
      ],
      "metadata": {
        "colab": {
          "base_uri": "https://localhost:8080/"
        },
        "id": "O4a2yAE04l_0",
        "outputId": "5538c453-8367-4b74-966a-2bcef86dd043"
      },
      "execution_count": 26,
      "outputs": [
        {
          "output_type": "stream",
          "name": "stdout",
          "text": [
            "\"\n",
            "Silahkan pilih menu yg diinginkan\n",
            "=================================\n",
            "1. Luas Persegi \n",
            "2. Luas Lingkaran\n",
            "3. Luas Segitiga\n",
            "=================================\n",
            "Kirimkan hanya angka saja, jawaban = 2\n",
            "anda dapat memilih Luas Lingkaran silahkan isi data dibawah\n",
            "jarijari = 6\n",
            "Luas Lingkaran dengan jarijari 6 adalah 113.03999999999999\n"
          ]
        }
      ]
    }
  ]
}